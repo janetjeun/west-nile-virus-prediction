{
 "cells": [
  {
   "cell_type": "markdown",
   "id": "6c4300ee-da7e-4075-933c-b47996483f6c",
   "metadata": {},
   "source": [
    "<img src=\"http://imgur.com/1ZcRyrc.png\" style=\"float: left; margin: 20px; height: 55px\">\n",
    "\n",
    "# Project 4: Predicting Presence of West Nile Virus <br>\n",
    "**Notebook 6: Conclusion & Recommendations**"
   ]
  },
  {
   "cell_type": "markdown",
   "id": "944c0424-9a36-459e-bc5f-7b30340cd972",
   "metadata": {
    "tags": []
   },
   "source": [
    "# TABLE OF CONTENTS"
   ]
  },
  {
   "cell_type": "markdown",
   "id": "7e11a572-877d-44eb-b878-73313024025e",
   "metadata": {},
   "source": [
    "**1a. EDA on Training Dataset** <br>\n",
    "**1b. EDA on Weather Dataset** <br>\n",
    "**1c. EDA on Spray Dataset** <br>\n",
    "**2. Data Preprocessing I** <br>\n",
    "**3. Data Preprocessing II** <br>\n",
    "**4a. Modelling (Pycaret)** <br>\n",
    "**4b. Modelling (This Notebook)** <br>\n",
    "**5. Cost Benefit Analysis** <br>\n",
    "**6. Conclusion & Recommendations (This Notebook)** <br>"
   ]
  },
  {
   "cell_type": "markdown",
   "id": "795ab3d5-6e1f-41ce-b704-7a98928dfe0d",
   "metadata": {},
   "source": [
    "# Conclusion"
   ]
  },
  {
   "cell_type": "markdown",
   "id": "4536f7d3-6aac-40a8-816f-0482c62ed7eb",
   "metadata": {},
   "source": [
    "**(1) We Recapitulate Our Best Performing Model.** The Logistic Regression Model using a 30-day rolling average for weather-related model was chosen as our production model. The model yields a Train AUC of **0.867** and a Test AUC of **0.827**. Submitting our results to Kaggle (where the model encounters unseen data), the model yielded a AUC performance of **0.754**. \n",
    "\n",
    "**(2) The Chosen Model did not Exhibit the Best Train and Test AUC Among all our Candidate Models**. We were cognizant of the non-technical audience that the study was targeted at, and opine that a more explainable model (at the expense of a marginal drop in model performance) should be used instead. Critically, a logistics regression model allows stakeholders to directly glean the most important factors influencing WNV outbreak and develop action plans where required. Courtesy to the model's explainability, we uncovered that the most important factors influencing WNV onset are precipitation (such as drizzle and rain; largest contributor to increase in WNV onset) and fog (largest deterrence to onset of WNV).\n",
    "\n",
    "**(3) Leverage Domain Knowledge for Feature Engineering.** The rolling averages of weather-related variables were engineered with due consideration to the fact that achieving peak mosquito activity will require a conducive climate over a certain period of time(i.e. not just the day of the WNV infection itself). This feature engineering was only possible due extensive research onto the behviour of mosquitos. Compared to models that relied on a single day weather (i.e. 1 day rolling average), model employing a rolling average of weather-related variables showed drastically superior results."
   ]
  },
  {
   "cell_type": "markdown",
   "id": "c9bef056-99bb-4550-9f7d-bea4c02bb22e",
   "metadata": {},
   "source": [
    "# Recommendations"
   ]
  },
  {
   "cell_type": "markdown",
   "id": "429d99cf-4c42-4573-83d7-abb15f389e47",
   "metadata": {},
   "source": [
    "(1) **Optimisation of Finite Spraying / Financial Resources**. Our classification model and cost-benefits analysis model serves two purposes: (1) Identify high WNV-probability areas where finite spraying and monetary resources could be directed towards, and (2) identify the optimal threhold whereby a firm and pre-emptive intervention point can be established. By any measure, this is superior to the current modus operandi, whereby town councils spray a certain section only after the discovery of a WNV case. This model can be deployed (perhaps anywhere) to guide local town councils on the application of mosquito preventive measures. \n",
    "\n",
    "(2) **Direct Research Effort into Understanding Mosquito Hibernation Behaviour**. We took the liberty to develop models involving 40, 60, 80-days rolling averages of weather-related varaibles. Broadly, the performance of models improves with as the number of rolling averages increases. **Using a logistics regression model with 80 days rolling-average of weather-related variables, we achieved an AUC of 0.790 on the unseen Kaggle Data - a result far superior to our final chosen model.** This insight suggests that longer-term weather conditions might play a larger-than-thought role in waking mosquito up from hibernation. We recommned further studies into the behaviour of mosquito behaviour coming out of hibernation. This can potentially lead to the development of a model with far stronger predictive capability.\n",
    "\n",
    "(3) **Examination of Measures Beyond Spraying**. Bearing coherence with our study (which unveiled the ineffectiveness of spraying towards curbing WNV rates), we note that [Spraying alone is a very blunt instrument against mosquitos.](https://www.nea.gov.sg/media/nea-vox/index/why-can-t-nea-just-fog-the-entire-island-to-kill-adult-mosquitoes) More effective and pre-emptive comes in the form public education, improvement to drainage systems, and strict enforcement of fines for public violaters. "
   ]
  },
  {
   "cell_type": "code",
   "execution_count": null,
   "id": "eb0b80f9-7ad9-4ed7-a774-4fffcd9ec2ca",
   "metadata": {},
   "outputs": [],
   "source": []
  }
 ],
 "metadata": {
  "kernelspec": {
   "display_name": "Python 3 (ipykernel)",
   "language": "python",
   "name": "python3"
  },
  "language_info": {
   "codemirror_mode": {
    "name": "ipython",
    "version": 3
   },
   "file_extension": ".py",
   "mimetype": "text/x-python",
   "name": "python",
   "nbconvert_exporter": "python",
   "pygments_lexer": "ipython3",
   "version": "3.9.12"
  }
 },
 "nbformat": 4,
 "nbformat_minor": 5
}
