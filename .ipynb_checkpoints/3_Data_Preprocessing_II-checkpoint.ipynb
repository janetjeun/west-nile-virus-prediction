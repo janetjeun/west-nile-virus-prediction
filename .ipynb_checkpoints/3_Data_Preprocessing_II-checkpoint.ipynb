{
 "cells": [
  {
   "cell_type": "markdown",
   "id": "815bf228-0d17-4a68-a471-c6c7fc00d50c",
   "metadata": {},
   "source": [
    "<img src=\"http://imgur.com/1ZcRyrc.png\" style=\"float: left; margin: 20px; height: 55px\">\n",
    "\n",
    "# Project 4: Predicting Presence of West Nile Virus <br>\n",
    "**Notebook 3: Data Pre-Processing II**"
   ]
  },
  {
   "cell_type": "markdown",
   "id": "c35d643b-a2c6-4ce7-ae80-387ec8f7d964",
   "metadata": {
    "tags": []
   },
   "source": [
    "## TABLE OF CONTENTS"
   ]
  },
  {
   "cell_type": "markdown",
   "id": "90df381f-d421-43af-9201-15ae8ade71a0",
   "metadata": {},
   "source": [
    "**1a. EDA on Training Dataset** <br>\n",
    "**1b. EDA on Weather Dataset** <br>\n",
    "**1c. EDA on Spray Dataset** <br>\n",
    "**2. Data Preprocessing I** <br>\n",
    "**3. Data Preprocessing II (This Notebook)** <br>\n",
    "- [(1) Drawing Weather Information for each Observation](#(1)-Requirement:-Drawing-Weather-Information-for-each-Observation) <br>\n",
    "- [(2) Export Dataset for Modelling](#(2)-Export-Dataset-for-Modelling) <br>\n",
    "\n",
    "**4a. Modelling (Pycaret)** <br>\n",
    "**4b. Modelling** <br>\n",
    "**5. Cost Benefit Analysis** <br>\n",
    "**6. Conclusion & Recommendations** <br>"
   ]
  },
  {
   "cell_type": "code",
   "execution_count": 1,
   "id": "d85c40b0-79e7-4472-b47f-85f35c533c8a",
   "metadata": {},
   "outputs": [],
   "source": [
    "import pandas as pd\n",
    "\n",
    "# for visualisation\n",
    "import matplotlib.pyplot as plt\n",
    "import seaborn as sns\n",
    "\n",
    "# For distance measuring given lat long\n",
    "import geopy.distance\n",
    "\n",
    "# for apply progress tracking\n",
    "from tqdm import tqdm\n",
    "tqdm.pandas()"
   ]
  },
  {
   "cell_type": "code",
   "execution_count": 2,
   "id": "eeccf2ce-f15f-44b6-90a6-8bc50772587f",
   "metadata": {},
   "outputs": [],
   "source": [
    "pd.options.display.max_columns = None\n",
    "pd.options.display.max_rows = None"
   ]
  },
  {
   "cell_type": "code",
   "execution_count": 3,
   "id": "0ad27f4f-494c-4ad0-b573-7fee422f3d23",
   "metadata": {},
   "outputs": [],
   "source": [
    "# Load in Pre-prepared Data\n",
    "train_cleaned = pd.read_csv('./assets/Processed Data/train_cleaned.csv', index_col=0)\n",
    "test_cleaned = pd.read_csv('./assets/Processed Data/test_cleaned.csv',index_col=0)\n",
    "spray = pd.read_csv('./assets/Processed Data/spray_cleaned.csv',index_col=0)\n",
    "weather = pd.read_csv('./assets/Processed Data/weather_cleaned.csv',index_col=0)\n",
    "\n",
    "train_traps = pd.read_csv('./assets/Processed Data/train_traps.csv',index_col=0)\n",
    "test_traps = pd.read_csv('./assets/Processed Data/test_traps.csv',index_col=0)"
   ]
  },
  {
   "cell_type": "markdown",
   "id": "6450c08c-ecf7-4f03-96f9-cfd7fef766ec",
   "metadata": {},
   "source": [
    "## (1) Requirement: Drawing Weather Information for each Observation"
   ]
  },
  {
   "cell_type": "markdown",
   "id": "36c3fd86-c8a2-484d-9c42-55bbb8a96fb2",
   "metadata": {},
   "source": [
    "We learn more about Mosquitos towards understanding how we should wrangle our weather data:\\\n",
    "(1) Mosquitos will lay their eggs. Even if the conditions are unfavourable, the eggs will remain in hibernation.\\\n",
    "(2) The egg will hatch and become an adult when optimal weather conditions are met. This takes about 8 to 10 days.\\\n",
    "(3) As an adult, they will live for 2 to 3 weeks. Even as an adult, Mosquitos require optimal conditions to function normally. At certain low temperature, they become slow, lethargic or even stop functioning altogether. At high wind speed, they are unable to fly nor land and as such broadly loses their functions.\n",
    "(4) Then there is winter. Mosquitos and their eggs can hibernate! They will only wake up when it is warm enough. The mechanism behind hibernation is not fully understood - do animals wake up at a pre-programmed bioclock? or do they wake up when it is warm enough or bright enough? The uncertainty towards hibernation means mosquitos might remain inactive for a long time even after favourable conditions have been present for a while.\n",
    "\n",
    "[Source 1](https://www.cdc.gov/dengue/resources/factsheets/mosquitolifecyclefinal.pdf)\n",
    "[Source 2](https://www.mandmpestcontrol.com/how-long-do-mosquitoes-live-and-what-that-means-for-you/)\n",
    "\n",
    "Concurrently, we take into account that the traps are collected the most on a weekly basis.\n",
    "With these information, we gather that peak mosquito activity (i.e. When eggs find the optimal environment to hatch, and adults to go around doing mosquito business) involves an optimal weather condition between 8 to 31 days. \n",
    "\n",
    "For a start, we will explore a rolling average of 10 to 30 days when drawing the related weather data for each observation, and examined which model works best. Taking hibernation into account however, we will perform some exploratory studies beyond a rolling average of 30 days and discuss our findings.\n",
    "\n",
    "**We also recap our earlier intent to obtain a weighted average of weather information from both weather stations in order to get a more accurate representation of the weather conditions for each trap. This will be weaved into our function here.**"
   ]
  },
  {
   "cell_type": "code",
   "execution_count": 4,
   "id": "c7d42932-1b1c-4837-8c74-bac4fc9dc050",
   "metadata": {},
   "outputs": [],
   "source": [
    "# As part of data preparation, we split our weather dataset into 2 different weather stations\n",
    "weather_1 = weather[weather['Station'] == 1]\n",
    "weather_2 = weather[weather['Station'] == 2]"
   ]
  },
  {
   "cell_type": "code",
   "execution_count": 5,
   "id": "d79e2f37-fc94-495d-a38b-d5a11d2021a0",
   "metadata": {},
   "outputs": [],
   "source": [
    "# Define function to get rolling data\n",
    "def rolling_weather(rolling_days):\n",
    "    # get rolling data\n",
    "    df_1 = weather_1.drop(columns = ['Date','Station']).rolling(rolling_days, min_periods = 1).mean()\n",
    "    df_2 = weather_2.drop(columns = ['Date','Station']).rolling(rolling_days, min_periods = 1).mean()\n",
    "    # attach date column back and drop index column\n",
    "    df_1['Date'] = weather_1['Date']\n",
    "    df_2['Date'] = weather_2['Date']\n",
    "    \n",
    "    return ([df_1,df_2])"
   ]
  },
  {
   "cell_type": "code",
   "execution_count": 6,
   "id": "5f0447d9-198d-400f-9172-5beef45c7ce4",
   "metadata": {},
   "outputs": [],
   "source": [
    "# We obtain our dataframes for different rolling_days (between 10 to 30)\n",
    "# We also use n=1 to keep a non-rolling data set\n",
    "weather_df_n1 = rolling_weather(1)\n",
    "weather_df_n5 = rolling_weather(5)\n",
    "weather_df_n10 = rolling_weather(10)\n",
    "weather_df_n15 = rolling_weather(15)\n",
    "weather_df_n20 = rolling_weather(20)\n",
    "weather_df_n25 = rolling_weather(25)\n",
    "weather_df_n30 = rolling_weather(30)\n",
    "# For further exploratory study - because we don't know hibernation\n",
    "weather_df_n40 = rolling_weather(40)\n",
    "weather_df_n50 = rolling_weather(50)\n",
    "weather_df_n60 = rolling_weather(60)\n",
    "weather_df_n70 = rolling_weather(70)\n",
    "weather_df_n80 = rolling_weather(80)\n",
    "weather_df_n90 = rolling_weather(90)\n",
    "weather_df_n100 = rolling_weather(100)"
   ]
  },
  {
   "cell_type": "code",
   "execution_count": 7,
   "id": "e5fd6272-a8e4-473c-9901-b92dcdb13cae",
   "metadata": {},
   "outputs": [],
   "source": [
    "## We first attach the weights to each observation in the train and test set\n",
    "train = pd.merge(train_cleaned, train_traps[['Trap','weight_1','weight_2']], on = 'Trap', how = 'left')\n",
    "test = pd.merge(test_cleaned, test_traps[['Trap','weight_1','weight_2']], on = 'Trap', how = 'left')"
   ]
  },
  {
   "cell_type": "markdown",
   "id": "7e924236-70c6-44f6-8383-9afe5a0497e6",
   "metadata": {},
   "source": [
    "We next define a function that will draw a weighted weather data from our rolling weather datasets."
   ]
  },
  {
   "cell_type": "code",
   "execution_count": 8,
   "id": "fba997cb-1d20-4e2d-bf32-3ff631440363",
   "metadata": {},
   "outputs": [],
   "source": [
    "def weather_attacher(df, rolling_days):\n",
    "    \n",
    "    # Get weather dataframe with correct rolling days\n",
    "    weather_df_1, weather_df_2 = eval('weather_df_n' + rolling_days)\n",
    "    \n",
    "    # Save list of vars\n",
    "    list_of_vars = ['Tavg','PrecipTotal','StnPressure','ResultDir','AvgSpeed','Sunlight',\n",
    "                    'MIFG','TS','SQ','GR','VCFG','FG+','SN','FG','VCTS','BCFG','BR','RA','FU','DZ','TSRA','HZ']\n",
    "    \n",
    "    # We then merge weather_df_1, and weather_df_2 with df on 'Date'\n",
    "    massive_df = pd.merge(df, weather_df_1[list_of_vars + ['Date']], on = 'Date', how = 'left')\n",
    "    massive_df = pd.merge(massive_df, weather_df_2[list_of_vars + ['Date']], on = 'Date', how = 'left')\n",
    "                          \n",
    "    # Then perform weighted mulitplication to get all required temperature\n",
    "    for var in list_of_vars:\n",
    "        massive_df[var] = massive_df.apply(lambda row: row['weight_1']*row[var + '_x'] + row['weight_2']*row[var + '_y'], axis = 1)\n",
    "        \n",
    "    # Finally, shed the excess rows\n",
    "    massive_df.drop(columns = ['weight_1','weight_2', 'Longitude', 'Latitude',\n",
    "                               'Tavg_x','PrecipTotal_x','StnPressure_x','ResultDir_x','AvgSpeed_x','Sunlight_x',\n",
    "                               'Tavg_y','PrecipTotal_y','StnPressure_y','ResultDir_y','AvgSpeed_y','Sunlight_y',\n",
    "                               'MIFG_x', 'TS_x', 'SQ_x', 'GR_x', 'VCFG_x', 'FG+_x', 'SN_x', 'FG_x', \n",
    "                               'VCTS_x', 'BCFG_x', 'BR_x', 'RA_x', 'FU_x', 'DZ_x', 'TSRA_x', 'HZ_x',\n",
    "                               'MIFG_y', 'TS_y', 'SQ_y', 'GR_y', 'VCFG_y', 'FG+_y', 'SN_y', 'FG_y', \n",
    "                               'VCTS_y', 'BCFG_y', 'BR_y', 'RA_y', 'FU_y', 'DZ_y', 'TSRA_y', 'HZ_y'\n",
    "                              ], \n",
    "                    inplace = True)\n",
    "    \n",
    "    return(massive_df)"
   ]
  },
  {
   "cell_type": "markdown",
   "id": "362f89b9-155b-4a2a-94fe-8755277851a8",
   "metadata": {},
   "source": [
    "We mass produced our datasets for different rolling_days"
   ]
  },
  {
   "cell_type": "code",
   "execution_count": 9,
   "id": "83dc4318-1720-4148-86cb-bc1bf12ecd7d",
   "metadata": {},
   "outputs": [],
   "source": [
    "train_r1 = weather_attacher(train, '1')\n",
    "train_r5 = weather_attacher(train, '5')\n",
    "train_r10 = weather_attacher(train, '10')\n",
    "train_r15 = weather_attacher(train, '15')\n",
    "train_r20 = weather_attacher(train, '20')\n",
    "train_r25 = weather_attacher(train, '25')\n",
    "train_r30 = weather_attacher(train, '30')\n",
    "train_r40 = weather_attacher(train, '40')\n",
    "train_r50 = weather_attacher(train, '50')\n",
    "train_r60 = weather_attacher(train, '60')\n",
    "train_r70 = weather_attacher(train, '70')\n",
    "train_r80 = weather_attacher(train, '80')\n",
    "train_r90 = weather_attacher(train, '90')\n",
    "train_r100 = weather_attacher(train, '100')\n",
    "\n",
    "test_r1 = weather_attacher(test, '1')\n",
    "test_r5 = weather_attacher(test, '5')\n",
    "test_r10 = weather_attacher(test, '10')\n",
    "test_r15 = weather_attacher(test, '15')\n",
    "test_r20 = weather_attacher(test, '20')\n",
    "test_r25 = weather_attacher(test, '25')\n",
    "test_r30 = weather_attacher(test, '30')\n",
    "test_r40 = weather_attacher(test, '40')\n",
    "test_r50 = weather_attacher(test, '50')\n",
    "test_r60 = weather_attacher(test, '60')\n",
    "test_r70 = weather_attacher(test, '70')\n",
    "test_r80 = weather_attacher(test, '80')\n",
    "test_r90 = weather_attacher(test, '90')\n",
    "test_r100 = weather_attacher(test, '100')"
   ]
  },
  {
   "cell_type": "markdown",
   "id": "34559e4d-f29c-436f-8aa6-4786ee8fbb9a",
   "metadata": {},
   "source": [
    "## (2) Export Dataset for Modelling "
   ]
  },
  {
   "cell_type": "code",
   "execution_count": 10,
   "id": "2db1af3c-3ac7-4786-9e04-33fcc4cdc1c3",
   "metadata": {},
   "outputs": [],
   "source": [
    "train_r1.to_csv('./assets/Modelling_Data/train_r1.csv')\n",
    "train_r5.to_csv('./assets/Modelling_Data/train_r5.csv')\n",
    "train_r10.to_csv('./assets/Modelling_Data/train_r10.csv')\n",
    "train_r15.to_csv('./assets/Modelling_Data/train_r15.csv')\n",
    "train_r20.to_csv('./assets/Modelling_Data/train_r20.csv')\n",
    "train_r25.to_csv('./assets/Modelling_Data/train_r25.csv')\n",
    "train_r30.to_csv('./assets/Modelling_Data/train_r30.csv')\n",
    "train_r40.to_csv('./assets/Modelling_Data/train_r40.csv')\n",
    "train_r50.to_csv('./assets/Modelling_Data/train_r50.csv')\n",
    "train_r60.to_csv('./assets/Modelling_Data/train_r60.csv')\n",
    "train_r70.to_csv('./assets/Modelling_Data/train_r70.csv')\n",
    "train_r80.to_csv('./assets/Modelling_Data/train_r80.csv')\n",
    "train_r90.to_csv('./assets/Modelling_Data/train_r90.csv')\n",
    "train_r100.to_csv('./assets/Modelling_Data/train_r100.csv')\n",
    "\n",
    "test_r1.to_csv('./assets/Modelling_Data/test_r1.csv')\n",
    "test_r5.to_csv('./assets/Modelling_Data/test_r5.csv')\n",
    "test_r10.to_csv('./assets/Modelling_Data/test_r10.csv')\n",
    "test_r15.to_csv('./assets/Modelling_Data/test_r15.csv')\n",
    "test_r20.to_csv('./assets/Modelling_Data/test_r20.csv')\n",
    "test_r25.to_csv('./assets/Modelling_Data/test_r25.csv')\n",
    "test_r30.to_csv('./assets/Modelling_Data/test_r30.csv')\n",
    "test_r40.to_csv('./assets/Modelling_Data/test_r40.csv')\n",
    "test_r50.to_csv('./assets/Modelling_Data/test_r50.csv')\n",
    "test_r60.to_csv('./assets/Modelling_Data/test_r60.csv')\n",
    "test_r70.to_csv('./assets/Modelling_Data/test_r70.csv')\n",
    "test_r80.to_csv('./assets/Modelling_Data/test_r80.csv')\n",
    "test_r90.to_csv('./assets/Modelling_Data/test_r90.csv')\n",
    "test_r100.to_csv('./assets/Modelling_Data/test_r100.csv')"
   ]
  },
  {
   "cell_type": "code",
   "execution_count": null,
   "id": "161ceb88-d0bf-465a-a70e-dee7eabd617c",
   "metadata": {},
   "outputs": [],
   "source": []
  }
 ],
 "metadata": {
  "kernelspec": {
   "display_name": "Python 3 (ipykernel)",
   "language": "python",
   "name": "python3"
  },
  "language_info": {
   "codemirror_mode": {
    "name": "ipython",
    "version": 3
   },
   "file_extension": ".py",
   "mimetype": "text/x-python",
   "name": "python",
   "nbconvert_exporter": "python",
   "pygments_lexer": "ipython3",
   "version": "3.9.12"
  }
 },
 "nbformat": 4,
 "nbformat_minor": 5
}
