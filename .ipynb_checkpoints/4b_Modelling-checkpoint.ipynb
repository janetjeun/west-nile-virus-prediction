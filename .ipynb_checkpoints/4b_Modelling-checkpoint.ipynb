{
 "cells": [
  {
   "cell_type": "markdown",
   "id": "7430e9ed-9ccc-43c1-bc29-74b8c120a4e5",
   "metadata": {},
   "source": [
    "<img src=\"http://imgur.com/1ZcRyrc.png\" style=\"float: left; margin: 20px; height: 55px\">\n",
    "\n",
    "# Project 4: Predicting Presence of West Nile Virus <br>\n",
    "**Notebook 4b: Modelling**"
   ]
  },
  {
   "cell_type": "markdown",
   "id": "2c0f4137-218e-44a6-bfc1-3ce6c7d735c9",
   "metadata": {
    "tags": []
   },
   "source": [
    "## TABLE OF CONTENTS"
   ]
  },
  {
   "cell_type": "markdown",
   "id": "a5444a3b-7110-4cff-9c09-5859a339fafc",
   "metadata": {},
   "source": [
    "**1a. EDA on Training Dataset** <br>\n",
    "**1b. EDA on Weather Dataset** <br>\n",
    "**1c. EDA on Spray Dataset** <br>\n",
    "**2. Data Preprocessing I** <br>\n",
    "**3. Data Preprocessing II** <br>\n",
    "**4a. Modelling (Pycaret)** <br>\n",
    "**4b. Modelling (This Notebook)** <br>\n",
    "- [(1) HyperParameter Tuning](#(1)-Gridsearch-for-Logistics-Regression,-Gradient-Boosting-Classfier,-and-Light-Gradient-Boosting-Machine-Models.) <br>\n",
    "- [(2) Choosing a Production Model](#(2)-Choosing-a-Production-Model) <br>\n",
    "- [(3) Examination of Most Important Variables](#(3)-Examination-of-Most-Important-Variables)\n",
    "- [(4) Further Exploration](#(4)-Further-Exploration:-The-Case-for-Higher-Rolling-Days)\n",
    "- [(5) Bonus: Logistics Regression with SMOTE](#(5)-Bonus:-Logistics-Regression-with-SMOTE)\n",
    "- [(6) Bonus: Neural Nets Implementation](#(6)-Bonus:-Neural-Nets-Implementation)\n",
    "\n",
    "**5. Cost Benefit Analysis** <br>\n",
    "**6. Conclusion & Recommendations** <br>"
   ]
  },
  {
   "cell_type": "code",
   "execution_count": 1,
   "id": "03e101a1-31e2-414c-ba27-131846ef31a0",
   "metadata": {},
   "outputs": [],
   "source": [
    "import pandas as pd\n",
    "import numpy as np\n",
    "\n",
    "# for visualisation\n",
    "import matplotlib.pyplot as plt\n",
    "import seaborn as sns\n",
    "\n",
    "# For distance measuring given lat long\n",
    "import geopy.distance\n",
    "\n",
    "# for apply progress tracking\n",
    "from tqdm import tqdm\n",
    "tqdm.pandas()\n",
    "\n",
    "from sklearn.pipeline import Pipeline\n",
    "\n",
    "from sklearn.metrics import get_scorer, confusion_matrix, ConfusionMatrixDisplay, accuracy_score, plot_roc_curve\n",
    "from sklearn.linear_model import LogisticRegression\n",
    "from sklearn.ensemble import GradientBoostingClassifier\n",
    "import lightgbm as lgb\n",
    "\n",
    "from sklearn.model_selection import train_test_split, GridSearchCV\n",
    "from sklearn.compose import ColumnTransformer\n",
    "from sklearn.preprocessing import StandardScaler"
   ]
  },
  {
   "cell_type": "code",
   "execution_count": 2,
   "id": "bca7aa24-3dd3-4218-a5bc-aecd0b33bac9",
   "metadata": {},
   "outputs": [],
   "source": [
    "# Here we switch off the warnings as not all models being grid-searched converges\n",
    "# Nevertheless, this is ok as the gridsearch will ultimately default to / compare models that converge\n",
    "\n",
    "import warnings\n",
    "warnings.filterwarnings(\"ignore\")"
   ]
  },
  {
   "cell_type": "markdown",
   "id": "b5987506-47b8-483d-b9cc-301a3ea8fde6",
   "metadata": {},
   "source": [
    "# Modelling Overview"
   ]
  },
  {
   "cell_type": "markdown",
   "id": "8fb3459f-e301-469c-acda-e488f2246ed4",
   "metadata": {},
   "source": [
    "This section build-ups on [a broad scan of the classifier methods available using PyCaret.](./4a_Model_Scan_Pycaret.ipynb) Using AUC as a scoring criteria with CV as a validation method, we ascertained that Logistics Regression, Gradient Boosting Classifier and the Light Gradient Boosting Machine would be suitable methods to further develop our model upon. This section will see us conducting a gridsearch to optimise models built using said classifier methods, towards identifying a final production model for our use case."
   ]
  },
  {
   "cell_type": "markdown",
   "id": "b300a4d6-abfe-4b5b-8621-207bd1d244b0",
   "metadata": {},
   "source": [
    "## (1) Gridsearch for Logistics Regression, Gradient Boosting Classifier, and Light Gradient Boosting Machine Models.\n",
    "\n",
    "Alongside identifying the best model for our case, we also seek to determine the optimal number of rolling days average to use for our weather-related variables. The use of such rolling days average reflects our theory about mosquito activity - that mosquito activity on a given day is not merely a function of the weather conditions on the day itself. \n",
    "\n",
    "Rather, peak mosquito activity arises as the culmination of hot and humid conditions over several days. This \"number of days\" accounts for (1) the duration of optimal weather required to \"awake\" and hatch the mosquito eggs from their wintry hibernation, (2) the number of days required for a newly-hatched mosquito larvae to fully mature into an adult mosquito, and (3) the presence of \"good-weather\" days for an adult mosquito to become fully active and be on the prowl for both mates and blood. \n",
    "\n",
    "For modelling purposes, we will use rolling averages of 10 days, 20 days, and 30 days in our models (a baseline model employing 1 rolling day will also be employed to validate our theory about mosquito activity). The best performing model will be used for our final production model."
   ]
  },
  {
   "cell_type": "markdown",
   "id": "fd9d0925-f2c9-44da-9fba-3f58cfc74f9a",
   "metadata": {},
   "source": [
    "### (a) Logistics Regression Modelling"
   ]
  },
  {
   "cell_type": "markdown",
   "id": "7911e54b-1783-4a39-ba2b-34cbbbce3111",
   "metadata": {},
   "source": [
    "In our logistics regression modelling, we used the \"saga\" solver and Ridge Regression exclusively as we found it to be the only solver-penalty combo that achieved convergence (sidenote: the \"saga\" solver was purpose-built for large dataset such as this). We also stratified our dataset based on our predicted variable for our train test data split, and set our class weights to \"balanced\" to accommodate the highly-imbalanced nature (~5% positive predictions) of our dataset. Lastly, we adopted Standard scaling for our weather-related variables, for both quicker convergence as well as the understanding that the large volume of weather could fit onto a standard scale. We further reduce the tolerance for convergence to 0.005 to accelerate the convergence process."
   ]
  },
  {
   "cell_type": "code",
   "execution_count": 3,
   "id": "335c9b28-941b-4e4a-af2e-03fe5eea2fe3",
   "metadata": {},
   "outputs": [],
   "source": [
    "def log_reg_model(rolling_days, drop_codesum = False):\n",
    "    \n",
    "    # load in data\n",
    "    locals()['train_' + str(rolling_days)] = pd.read_csv('./assets/Modelling_Data/train_r'+ str(rolling_days) +'.csv', index_col=0)\n",
    "    \n",
    "    # drop Date Column\n",
    "    locals()['train_' + str(rolling_days)].drop(columns = ['Date'], inplace = True)\n",
    "    \n",
    "    # drop CodeSum Column\n",
    "    if drop_codesum == True:\n",
    "        locals()['train_' + str(rolling_days)].drop(columns = ['MIFG','TS','SQ','GR','VCFG','FG+','SN','FG',\n",
    "                                                               'VCTS','BCFG','BR','RA','FU','DZ','TSRA','HZ'], inplace = True)\n",
    "    \n",
    "    # Create X and Y\n",
    "    X = eval('train_' + str(rolling_days)).drop(columns = ['WnvPresent'])\n",
    "    X.reset_index(drop = True, inplace = True)\n",
    "    y = eval('train_' + str(rolling_days))['WnvPresent']\n",
    "    \n",
    "    # Dummify Columns\n",
    "    X = pd.get_dummies(X, columns=['Species', 'Trap'], drop_first = True)\n",
    "    \n",
    "    # Train Test Split\n",
    "    X_train, X_test, y_train, y_test = train_test_split(X, y, test_size = 0.33, random_state = 88, stratify = y)\n",
    "    \n",
    "    #Standard Scale weather variables\n",
    "    ct = ColumnTransformer([(\"sc\", StandardScaler(), \n",
    "                             ['Tavg', 'PrecipTotal','StnPressure','ResultDir','AvgSpeed','Sunlight'])],\n",
    "                          remainder = 'passthrough')\n",
    "\n",
    "    X_train_sc = ct.fit_transform(X_train)\n",
    "    X_test_sc = ct.transform(X_test)\n",
    "    \n",
    "    # Convert to dataframe\n",
    "    X_train_sc = pd.DataFrame(X_train_sc, columns=X_train.columns)\n",
    "    X_test_sc = pd.DataFrame(X_test_sc, columns=X_test.columns)\n",
    "    \n",
    "    # Instantiate a pipeline\n",
    "    pipe_logreg = Pipeline([\n",
    "        ('logreg', LogisticRegression(tol = 0.005, class_weight='balanced', solver = 'saga', max_iter=10000, random_state = 888)) # tuple for estimator object, class\n",
    "    ])\n",
    "    \n",
    "    # Input Search Parameters!\n",
    "    pipe_logreg_params = {'logreg__C':np.logspace(1,3,2)}\n",
    "    \n",
    "    # Instantiate a Grid Search\n",
    "    gs_logreg = GridSearchCV(pipe_logreg, \n",
    "                             param_grid=pipe_logreg_params,\n",
    "                             cv=5,\n",
    "                             verbose=1,\n",
    "                             n_jobs=-1\n",
    "                            )\n",
    "\n",
    "    # Score!\n",
    "    gs_logreg.fit(X_train_sc, y_train) # 1. fit model on training data first\n",
    "\n",
    "    for metric in ['accuracy', 'precision', 'recall', 'f1']: # define a list of metrics we want computed on test\n",
    "        print(f'Train {metric}: {get_scorer(metric)(gs_logreg, X_train_sc, y_train)}') # pass to get_scorer for metrics computation\n",
    "    print(f\"Train AUC = {get_scorer('roc_auc')(gs_logreg, X_train_sc, y_train)}\")\n",
    "\n",
    "    for metric in ['accuracy', 'precision', 'recall', 'f1']: # define a list of metrics we want computed on test\n",
    "        print(f'Test {metric}: {get_scorer(metric)(gs_logreg, X_test_sc, y_test)}') # pass to get_scorer for metrics computation\n",
    "    print(f\"Test AUC = {get_scorer('roc_auc')(gs_logreg, X_test_sc, y_test)}\")\n",
    "    \n",
    "    return(gs_logreg)"
   ]
  },
  {
   "cell_type": "markdown",
   "id": "4ab57dfa-570b-4edd-9ee8-3c3b56c6c66a",
   "metadata": {},
   "source": [
    "#### Logistics Regression Across Different Rolling Days"
   ]
  },
  {
   "cell_type": "markdown",
   "id": "c7c385ae-d8cf-4b3d-b5b2-61a41363cc89",
   "metadata": {},
   "source": [
    "**(i) 10 Rolling Days Average**"
   ]
  },
  {
   "cell_type": "code",
   "execution_count": 4,
   "id": "2806a389-4645-47f7-b18b-cba9c2c264f1",
   "metadata": {},
   "outputs": [
    {
     "name": "stdout",
     "output_type": "stream",
     "text": [
      "Fitting 5 folds for each of 2 candidates, totalling 10 fits\n",
      "Train accuracy: 0.729507032248899\n",
      "Train precision: 0.14352066883418485\n",
      "Train recall: 0.8373983739837398\n",
      "Train f1: 0.24504361617763679\n",
      "Train AUC = 0.8530163779898668\n",
      "Test accuracy: 0.7216613787135853\n",
      "Test precision: 0.12607449856733524\n",
      "Test recall: 0.7252747252747253\n",
      "Test f1: 0.21480878763222133\n",
      "Test AUC = 0.7966154849716494\n"
     ]
    }
   ],
   "source": [
    "logreg_r10 = log_reg_model(10)"
   ]
  },
  {
   "cell_type": "markdown",
   "id": "3b2cf19d-36c5-4287-8280-51dd5864ff34",
   "metadata": {},
   "source": [
    "**(ii) 20 Rolling Days Average**"
   ]
  },
  {
   "cell_type": "code",
   "execution_count": 5,
   "id": "d7256e00-e20a-4c6f-ad9d-b3dfbe3b75e2",
   "metadata": {},
   "outputs": [
    {
     "name": "stdout",
     "output_type": "stream",
     "text": [
      "Fitting 5 folds for each of 2 candidates, totalling 10 fits\n",
      "Train accuracy: 0.7383151015769286\n",
      "Train precision: 0.14844868735083533\n",
      "Train recall: 0.8428184281842819\n",
      "Train f1: 0.25243506493506496\n",
      "Train AUC = 0.8606219248099528\n",
      "Test accuracy: 0.7288722238246322\n",
      "Test precision: 0.13275193798449614\n",
      "Test recall: 0.7527472527472527\n",
      "Test f1: 0.22570016474464583\n",
      "Test AUC = 0.817625068994932\n"
     ]
    }
   ],
   "source": [
    "logreg_r20 = log_reg_model(20)"
   ]
  },
  {
   "cell_type": "markdown",
   "id": "05f9c90f-072b-47bc-8b45-9d4423a61206",
   "metadata": {},
   "source": [
    "**(iii) 30 Rolling Day Average**"
   ]
  },
  {
   "cell_type": "code",
   "execution_count": 6,
   "id": "67bda983-b4cc-4608-a6a9-3681e96e5a35",
   "metadata": {},
   "outputs": [
    {
     "name": "stdout",
     "output_type": "stream",
     "text": [
      "Fitting 5 folds for each of 2 candidates, totalling 10 fits\n",
      "Train accuracy: 0.7459866458303737\n",
      "Train precision: 0.1530562347188264\n",
      "Train recall: 0.8482384823848238\n",
      "Train f1: 0.2593206296603149\n",
      "Train AUC = 0.8667595064256489\n",
      "Test accuracy: 0.748774156331122\n",
      "Test precision: 0.14666666666666667\n",
      "Test recall: 0.7857142857142857\n",
      "Test f1: 0.24719101123595508\n",
      "Test AUC = 0.8267507986686069\n"
     ]
    }
   ],
   "source": [
    "logreg_r30 = log_reg_model(30)"
   ]
  },
  {
   "cell_type": "markdown",
   "id": "b848dfb9-8723-4f0c-8f9f-f047de71ee54",
   "metadata": {},
   "source": [
    "**(iv) Baseline Model: Single Day Rolling Average**"
   ]
  },
  {
   "cell_type": "code",
   "execution_count": 7,
   "id": "4327e706-eb2f-4dad-acda-2340a13802ea",
   "metadata": {},
   "outputs": [
    {
     "name": "stdout",
     "output_type": "stream",
     "text": [
      "Fitting 5 folds for each of 2 candidates, totalling 10 fits\n",
      "Train accuracy: 0.677368944452337\n",
      "Train precision: 0.11497975708502024\n",
      "Train recall: 0.7696476964769647\n",
      "Train f1: 0.20007044734061288\n",
      "Train AUC = 0.8052638314988847\n",
      "Test accuracy: 0.6795500432650706\n",
      "Test precision: 0.11323896752706078\n",
      "Test recall: 0.7472527472527473\n",
      "Test f1: 0.19667389732465654\n",
      "Test AUC = 0.7634410490574874\n"
     ]
    }
   ],
   "source": [
    "logreg_r1 = log_reg_model(1)"
   ]
  },
  {
   "cell_type": "markdown",
   "id": "687a290d-8735-47ff-a736-268b6cbe9df3",
   "metadata": {},
   "source": [
    "**We note the following:**\n",
    "\n",
    "(1) That the **logistic regression model achieved respectable performance, with the best performing model using a 30 days rolling average (0.867 Train AUC and 0.827 Test AUC)**. \n",
    "\n",
    "(2) That all models employing a rolling average for our weather-related parameters performed vastly more superior than the model using only \"actual day\" (i.e. rolling day of 1) weather conditions. This **validates our theory that peak mosquito activity is the culmination of conducive weather over many days, and not just a single day**."
   ]
  },
  {
   "cell_type": "code",
   "execution_count": 9,
   "id": "2359f824-099b-41ec-acf8-3d9883975ebe",
   "metadata": {},
   "outputs": [
    {
     "data": {
      "text/plain": [
       "{'logreg__C': 1000.0}"
      ]
     },
     "execution_count": 9,
     "metadata": {},
     "output_type": "execute_result"
    }
   ],
   "source": [
    "## Examination of best parameters\n",
    "logreg_r30.best_params_"
   ]
  },
  {
   "cell_type": "markdown",
   "id": "d7726b2a-49dd-4b56-bac6-022688d897f7",
   "metadata": {},
   "source": [
    "### (b) Gradient Boosting Classifier Modelling"
   ]
  },
  {
   "cell_type": "markdown",
   "id": "03067a1a-975d-4688-b740-0c239a4d5724",
   "metadata": {},
   "source": [
    "We model using the Gradient Boosting Classifier next, conducting a gridsearch over different depth, number of estimators, and learning rates. Likewise, we adopted measures to accommodate the highly imbalanced dataset, as well as Standard scaling for our weather-related variables."
   ]
  },
  {
   "cell_type": "code",
   "execution_count": 10,
   "id": "a1a127ff-0236-4554-b4ef-2541622fdbd8",
   "metadata": {},
   "outputs": [],
   "source": [
    "def grad_boost_model(rolling_days, drop_codesum = False):\n",
    "    \n",
    "    # load in data\n",
    "    locals()['train_' + str(rolling_days)] = pd.read_csv('./assets/Modelling_Data/train_r'+ str(rolling_days) +'.csv', index_col=0)\n",
    "    \n",
    "    # drop Date Column\n",
    "    locals()['train_' + str(rolling_days)].drop(columns = ['Date'], inplace = True)\n",
    "    \n",
    "    # drop CodeSum Column\n",
    "    if drop_codesum == True:\n",
    "        locals()['train_' + str(rolling_days)].drop(columns = ['MIFG','TS','SQ','GR','VCFG','FG+','SN','FG',\n",
    "                                                               'VCTS','BCFG','BR','RA','FU','DZ','TSRA','HZ'], inplace = True)\n",
    "    \n",
    "    # Create X and Y\n",
    "    X = eval('train_' + str(rolling_days)).drop(columns = ['WnvPresent'])\n",
    "    X.reset_index(drop = True, inplace = True)\n",
    "    y = eval('train_' + str(rolling_days))['WnvPresent']\n",
    "    \n",
    "    # Dummify Columns\n",
    "    X = pd.get_dummies(X, columns=['Species', 'Trap'], drop_first = True)\n",
    "    \n",
    "    # Train Test Split\n",
    "    X_train, X_test, y_train, y_test = train_test_split(X, y, test_size = 0.33, random_state = 88, stratify = y)\n",
    "    \n",
    "    #Standard Scale weather variables\n",
    "    ct = ColumnTransformer([(\"sc\", StandardScaler(), \n",
    "                             ['Tavg', 'PrecipTotal','StnPressure','ResultDir','AvgSpeed','Sunlight'])],\n",
    "                          remainder = 'passthrough')\n",
    "\n",
    "    X_train_sc = ct.fit_transform(X_train)\n",
    "    X_test_sc = ct.transform(X_test)\n",
    "    \n",
    "    # Convert to dataframe\n",
    "    X_train_sc = pd.DataFrame(X_train_sc, columns=X_train.columns)\n",
    "    X_test_sc = pd.DataFrame(X_test_sc, columns=X_test.columns)\n",
    "    \n",
    "        \n",
    "    # Instantiate a pipeline\n",
    "    pipe_gradboost = Pipeline([\n",
    "        ('gradboost', GradientBoostingClassifier(random_state = 88)) # tuple for estimator object, class\n",
    "    ])\n",
    "    \n",
    "    # Input Search Parameters!\n",
    "    pipe_gradboost_params = {'gradboost__max_depth': [3,4],\n",
    "                             'gradboost__n_estimators': [50, 75],\n",
    "                             'gradboost__learning_rate': [.08, .1, .12]}\n",
    "    \n",
    "    # Instantiate a Grid Search\n",
    "    gs_gradboost = GridSearchCV(pipe_gradboost, \n",
    "                                param_grid=pipe_gradboost_params,\n",
    "                                cv=5,\n",
    "                                verbose=1,\n",
    "                                n_jobs=-1\n",
    "                               )\n",
    "\n",
    "    # Score!\n",
    "    gs_gradboost.fit(X_train_sc, y_train) # 1. fit model on training data first\n",
    "\n",
    "    for metric in ['accuracy', 'precision', 'recall', 'f1']: # define a list of metrics we want computed on test\n",
    "        print(f'Train {metric}: {get_scorer(metric)(gs_gradboost, X_train_sc, y_train)}') # pass to get_scorer for metrics computation\n",
    "    print(f\"Train AUC = {get_scorer('roc_auc')(gs_gradboost, X_train_sc, y_train)}\")\n",
    "\n",
    "    for metric in ['accuracy', 'precision', 'recall', 'f1']: # define a list of metrics we want computed on test\n",
    "        print(f'Test {metric}: {get_scorer(metric)(gs_gradboost, X_test_sc, y_test)}') # pass to get_scorer for metrics computation\n",
    "    print(f\"Test AUC = {get_scorer('roc_auc')(gs_gradboost, X_test_sc, y_test)}\")\n",
    "    \n",
    "    return(gs_gradboost)"
   ]
  },
  {
   "cell_type": "markdown",
   "id": "8b336e04-2ef7-4c8a-b515-41aaa0741b33",
   "metadata": {},
   "source": [
    "#### Gradient Boosting Classifier Across Different Rolling Days"
   ]
  },
  {
   "cell_type": "markdown",
   "id": "05175442-49c0-49bf-a1e7-c148218e6c2c",
   "metadata": {},
   "source": [
    "**(i) 10 Rolling Days Average**"
   ]
  },
  {
   "cell_type": "code",
   "execution_count": 11,
   "id": "880155ea-12de-4f7c-80c6-fcd325bf62ee",
   "metadata": {},
   "outputs": [
    {
     "name": "stdout",
     "output_type": "stream",
     "text": [
      "Fitting 5 folds for each of 12 candidates, totalling 60 fits\n",
      "Train accuracy: 0.9492825685466686\n",
      "Train precision: 1.0\n",
      "Train recall: 0.032520325203252036\n",
      "Train f1: 0.06299212598425198\n",
      "Train AUC = 0.8781942362152257\n",
      "Test accuracy: 0.9475050475915777\n",
      "Test precision: 0.5\n",
      "Test recall: 0.01098901098901099\n",
      "Test f1: 0.021505376344086023\n",
      "Test AUC = 0.8394617559001121\n"
     ]
    }
   ],
   "source": [
    "gradboost_r10 = grad_boost_model(10)"
   ]
  },
  {
   "cell_type": "markdown",
   "id": "d0d3dec9-f0ca-43de-b15b-8663e86d6d50",
   "metadata": {},
   "source": [
    "**(ii) 20 Rolling Days Average**"
   ]
  },
  {
   "cell_type": "code",
   "execution_count": 12,
   "id": "83a868f2-e686-4c88-a83a-63b952f626a5",
   "metadata": {},
   "outputs": [
    {
     "name": "stdout",
     "output_type": "stream",
     "text": [
      "Fitting 5 folds for each of 12 candidates, totalling 60 fits\n",
      "Train accuracy: 0.9495666998153147\n",
      "Train precision: 0.85\n",
      "Train recall: 0.04607046070460705\n",
      "Train f1: 0.08740359897172237\n",
      "Train AUC = 0.8734980070940139\n",
      "Test accuracy: 0.9480819152004615\n",
      "Test precision: 0.75\n",
      "Test recall: 0.016483516483516484\n",
      "Test f1: 0.03225806451612903\n",
      "Test AUC = 0.8358748557378695\n"
     ]
    }
   ],
   "source": [
    "gradboost_r20 = grad_boost_model(20)"
   ]
  },
  {
   "cell_type": "markdown",
   "id": "fb9916ed-8f6d-4438-aaac-a99dce1e800f",
   "metadata": {},
   "source": [
    "**(iii) 30 Rolling Day Average**"
   ]
  },
  {
   "cell_type": "code",
   "execution_count": 13,
   "id": "98cde6ab-ca0f-4ef0-bf9b-572d3b02441e",
   "metadata": {},
   "outputs": [
    {
     "name": "stdout",
     "output_type": "stream",
     "text": [
      "Fitting 5 folds for each of 12 candidates, totalling 60 fits\n",
      "Train accuracy: 0.9502770279869299\n",
      "Train precision: 0.7317073170731707\n",
      "Train recall: 0.08130081300813008\n",
      "Train f1: 0.14634146341463414\n",
      "Train AUC = 0.8812390552691134\n",
      "Test accuracy: 0.9489472166137871\n",
      "Test precision: 0.6666666666666666\n",
      "Test recall: 0.054945054945054944\n",
      "Test f1: 0.1015228426395939\n",
      "Test AUC = 0.8451126499071704\n"
     ]
    }
   ],
   "source": [
    "gradboost_r30 = grad_boost_model(30)"
   ]
  },
  {
   "cell_type": "markdown",
   "id": "81939d12-b014-435b-9752-73076e5f67b1",
   "metadata": {},
   "source": [
    "**(iv) Baseline Model: Single Day Rolling Average**"
   ]
  },
  {
   "cell_type": "code",
   "execution_count": 14,
   "id": "70dce4d7-c222-4ce7-aa26-1768f110dd91",
   "metadata": {},
   "outputs": [
    {
     "name": "stdout",
     "output_type": "stream",
     "text": [
      "Fitting 5 folds for each of 12 candidates, totalling 60 fits\n",
      "Train accuracy: 0.9487143060093763\n",
      "Train precision: 0.8333333333333334\n",
      "Train recall: 0.02710027100271003\n",
      "Train f1: 0.05249343832020998\n",
      "Train AUC = 0.8673750523112428\n",
      "Test accuracy: 0.946928179982694\n",
      "Test precision: 0.0\n",
      "Test recall: 0.0\n",
      "Test f1: 0.0\n",
      "Test AUC = 0.8270225968856106\n"
     ]
    }
   ],
   "source": [
    "gradboost_r1 = grad_boost_model(1)"
   ]
  },
  {
   "cell_type": "markdown",
   "id": "6897737a-96bf-4a82-a131-2e2e41eccae2",
   "metadata": {},
   "source": [
    "The gradient boosting classifier achieved superior performance relative to the logistics regression, with the 30 days rolling average achieving a 0.881 Train AUC and 0.845 Test AUC.\n",
    "\n",
    "By now, it should be beyond disputing the rolling average model is far superior than a single day weather model."
   ]
  },
  {
   "cell_type": "code",
   "execution_count": 15,
   "id": "781ed903-6de5-496c-ae95-6fc9f3c822f5",
   "metadata": {},
   "outputs": [
    {
     "data": {
      "text/plain": [
       "{'gradboost__learning_rate': 0.08,\n",
       " 'gradboost__max_depth': 3,\n",
       " 'gradboost__n_estimators': 50}"
      ]
     },
     "execution_count": 15,
     "metadata": {},
     "output_type": "execute_result"
    }
   ],
   "source": [
    "## Examination of best parameters\n",
    "gradboost_r30.best_params_"
   ]
  },
  {
   "cell_type": "markdown",
   "id": "e05ff13c-bc55-4827-b0bb-2c1a198d63da",
   "metadata": {},
   "source": [
    "### (c) Light Gradient Boosting Machine Modelling"
   ]
  },
  {
   "cell_type": "markdown",
   "id": "4a5d01ab-f9a3-4266-8489-783a6e78b5c1",
   "metadata": {},
   "source": [
    "We model using the Light Gradient Boosting Machine ([Ref.1](https://www.geeksforgeeks.org/lightgbm-light-gradient-boosting-machine/)) ([Ref.2](https://www.kaggle.com/code/prashant111/lightgbm-classifier-in-python)) next.  Theoretically, the light gradient boosting machine enhances upon the Gradient Boosting Classifier by incorporating features that (1) builds a lighter tree by only focusing on splits for under-trained variables, thereby maximising information gain in a \"lighter tree”, and (2) the bundling of sparse, uncorrelated variables, thereby allowing for faster convergence.  \n",
    "\n",
    "We conducting a gridsearch over different number of estimators, and learning rates. Likewise, we adopted measures to accommodate the highly imbalanced dataset, as well as Standard scaling for our weather-related variables."
   ]
  },
  {
   "cell_type": "code",
   "execution_count": 16,
   "id": "f19d4a0b-dfc0-40b6-9c2d-99a503e6123f",
   "metadata": {},
   "outputs": [],
   "source": [
    "def light_boost_model(rolling_days, drop_codesum = False):\n",
    "    \n",
    "    # load in data\n",
    "    locals()['train_' + str(rolling_days)] = pd.read_csv('./assets/Modelling_Data/train_r'+ str(rolling_days) +'.csv', index_col=0)\n",
    "    \n",
    "    # drop Date Column\n",
    "    locals()['train_' + str(rolling_days)].drop(columns = ['Date'], inplace = True)\n",
    "    \n",
    "    # drop CodeSum Column\n",
    "    if drop_codesum == True:\n",
    "        locals()['train_' + str(rolling_days)].drop(columns = ['MIFG','TS','SQ','GR','VCFG','FG+','SN','FG',\n",
    "                                                               'VCTS','BCFG','BR','RA','FU','DZ','TSRA','HZ'], inplace = True)\n",
    "    \n",
    "    # Create X and Y\n",
    "    X = eval('train_' + str(rolling_days)).drop(columns = ['WnvPresent'])\n",
    "    X.reset_index(drop = True, inplace = True)\n",
    "    y = eval('train_' + str(rolling_days))['WnvPresent']\n",
    "    \n",
    "    # Dummify Columns\n",
    "    X = pd.get_dummies(X, columns=['Species', 'Trap'], drop_first = True)\n",
    "    \n",
    "    # Train Test Split\n",
    "    X_train, X_test, y_train, y_test = train_test_split(X, y, test_size = 0.33, random_state = 88, stratify = y)\n",
    "    \n",
    "    #Standard Scale weather variables\n",
    "    ct = ColumnTransformer([(\"sc\", StandardScaler(), \n",
    "                             ['Tavg', 'PrecipTotal','StnPressure','ResultDir','AvgSpeed','Sunlight'])],\n",
    "                          remainder = 'passthrough')\n",
    "\n",
    "    X_train_sc = ct.fit_transform(X_train)\n",
    "    X_test_sc = ct.transform(X_test)\n",
    "    \n",
    "    # Convert to dataframe\n",
    "    X_train_sc = pd.DataFrame(X_train_sc, columns=X_train.columns)\n",
    "    X_test_sc = pd.DataFrame(X_test_sc, columns=X_test.columns)\n",
    "    \n",
    "        \n",
    "    # Instantiate a pipeline\n",
    "    pipe_lgb = Pipeline([\n",
    "        ('lgb', lgb.LGBMClassifier(random_state = 88)) # tuple for estimator object, class\n",
    "    ])\n",
    "    \n",
    "    # Input Search Parameters!\n",
    "    pipe_lgb_params = {'lgb__n_estimators': [50, 75],\n",
    "                       'lgb__learning_rate': [.08, .1, .12],\n",
    "                       'lgb__max_depth': [3,5,10],\n",
    "                      }\n",
    "    \n",
    "    # Instantiate a Grid Search\n",
    "    gs_lgb = GridSearchCV(pipe_lgb, \n",
    "                          param_grid=pipe_lgb_params,\n",
    "                          cv=5,\n",
    "                          verbose=1,\n",
    "                          n_jobs=-1\n",
    "                         )\n",
    "\n",
    "    # Score!\n",
    "    gs_lgb.fit(X_train_sc, y_train) # 1. fit model on training data first\n",
    "\n",
    "    for metric in ['accuracy', 'precision', 'recall', 'f1']: # define a list of metrics we want computed on test\n",
    "        print(f'Train {metric}: {get_scorer(metric)(gs_lgb, X_train_sc, y_train)}') # pass to get_scorer for metrics computation\n",
    "    print(f\"Train AUC = {get_scorer('roc_auc')(gs_lgb, X_train_sc, y_train)}\")\n",
    "\n",
    "    for metric in ['accuracy', 'precision', 'recall', 'f1']: # define a list of metrics we want computed on test\n",
    "        print(f'Test {metric}: {get_scorer(metric)(gs_lgb, X_test_sc, y_test)}') # pass to get_scorer for metrics computation\n",
    "    print(f\"Test AUC = {get_scorer('roc_auc')(gs_lgb, X_test_sc, y_test)}\")\n",
    "    \n",
    "    return(gs_lgb)"
   ]
  },
  {
   "cell_type": "markdown",
   "id": "0a961bdf-2402-4da7-8251-a776aeb70656",
   "metadata": {},
   "source": [
    "#### Light Gradient Booster Across Different Rolling Days"
   ]
  },
  {
   "cell_type": "markdown",
   "id": "48697bd7-a6c3-4605-ab99-893f2b99fcbc",
   "metadata": {},
   "source": [
    "**(i) 10 Rolling Days Average**"
   ]
  },
  {
   "cell_type": "code",
   "execution_count": 17,
   "id": "c5b81551-8e8a-4560-a681-161e5a29d429",
   "metadata": {},
   "outputs": [
    {
     "name": "stdout",
     "output_type": "stream",
     "text": [
      "Fitting 5 folds for each of 18 candidates, totalling 90 fits\n",
      "Train accuracy: 0.948003977837761\n",
      "Train precision: 1.0\n",
      "Train recall: 0.008130081300813009\n",
      "Train f1: 0.01612903225806452\n",
      "Train AUC = 0.907648817867489\n",
      "Test accuracy: 0.9475050475915777\n",
      "Test precision: 0.0\n",
      "Test recall: 0.0\n",
      "Test f1: 0.0\n",
      "Test AUC = 0.8596919062672488\n"
     ]
    }
   ],
   "source": [
    "lightboost_r10 = light_boost_model(10)"
   ]
  },
  {
   "cell_type": "markdown",
   "id": "dd97099a-adbe-4eb3-aaec-1839b2cfab25",
   "metadata": {},
   "source": [
    "**(ii) 20 Rolling Days Average**"
   ]
  },
  {
   "cell_type": "code",
   "execution_count": 18,
   "id": "d7108bd7-3351-4f84-9d60-2b0cbd845f58",
   "metadata": {},
   "outputs": [
    {
     "name": "stdout",
     "output_type": "stream",
     "text": [
      "Fitting 5 folds for each of 18 candidates, totalling 90 fits\n",
      "Train accuracy: 0.9488563716436994\n",
      "Train precision: 0.7647058823529411\n",
      "Train recall: 0.03523035230352303\n",
      "Train f1: 0.06735751295336788\n",
      "Train AUC = 0.914427745476855\n",
      "Test accuracy: 0.9477934813960196\n",
      "Test precision: 0.6\n",
      "Test recall: 0.016483516483516484\n",
      "Test f1: 0.0320855614973262\n",
      "Test AUC = 0.8462675832538846\n"
     ]
    }
   ],
   "source": [
    "lightboost_r20 = light_boost_model(20)"
   ]
  },
  {
   "cell_type": "markdown",
   "id": "b2a826a0-55a3-4df2-a219-381ef7dadd77",
   "metadata": {},
   "source": [
    "**(iii) 30 Rolling Day Average**"
   ]
  },
  {
   "cell_type": "code",
   "execution_count": 19,
   "id": "1502bbef-3a01-4c24-9402-7bdaf4dcf71f",
   "metadata": {},
   "outputs": [
    {
     "name": "stdout",
     "output_type": "stream",
     "text": [
      "Fitting 5 folds for each of 18 candidates, totalling 90 fits\n",
      "Train accuracy: 0.9492825685466686\n",
      "Train precision: 0.8333333333333334\n",
      "Train recall: 0.04065040650406504\n",
      "Train f1: 0.07751937984496124\n",
      "Train AUC = 0.920021899619296\n",
      "Test accuracy: 0.9495240842226709\n",
      "Test precision: 1.0\n",
      "Test recall: 0.038461538461538464\n",
      "Test f1: 0.07407407407407407\n",
      "Test AUC = 0.8558833860203724\n"
     ]
    }
   ],
   "source": [
    "lightboost_r30 = light_boost_model(30)"
   ]
  },
  {
   "cell_type": "markdown",
   "id": "7802ef75-55e4-4018-86f2-8e01e24b1e45",
   "metadata": {},
   "source": [
    "**(iv) Baseline Model: Single Day Rolling Average**"
   ]
  },
  {
   "cell_type": "code",
   "execution_count": 20,
   "id": "5d24685a-bad0-4b77-9126-6071e2cc043a",
   "metadata": {},
   "outputs": [
    {
     "name": "stdout",
     "output_type": "stream",
     "text": [
      "Fitting 5 folds for each of 18 candidates, totalling 90 fits\n",
      "Train accuracy: 0.9475777809347918\n",
      "Train precision: 0.0\n",
      "Train recall: 0.0\n",
      "Train f1: 0.0\n",
      "Train AUC = 0.863284008402303\n",
      "Test accuracy: 0.9475050475915777\n",
      "Test precision: 0.0\n",
      "Test recall: 0.0\n",
      "Test f1: 0.0\n",
      "Test AUC = 0.8352133406927927\n"
     ]
    }
   ],
   "source": [
    "lightboost_r1 = light_boost_model(1)"
   ]
  },
  {
   "cell_type": "markdown",
   "id": "f78e8b3d-c5d2-4c4b-995a-5440fbd9a739",
   "metadata": {},
   "source": [
    "The gradient boosting classifier achieved seemingly achieved superior performance relative to both the logistics regression and gradient boosting classifier.  **The 30 days rolling average achieved the best results of all with a 0.918 Train AUC and a 0.852 Test AUC.**\n",
    "\n",
    "However, we note that the light gradient boosting model produces instances of exceptionally severe overfitting."
   ]
  },
  {
   "cell_type": "code",
   "execution_count": 21,
   "id": "48951030-a20b-47e3-9a28-f97ee9df3e64",
   "metadata": {},
   "outputs": [
    {
     "data": {
      "text/plain": [
       "{'lgb__learning_rate': 0.08, 'lgb__max_depth': 5, 'lgb__n_estimators': 50}"
      ]
     },
     "execution_count": 21,
     "metadata": {},
     "output_type": "execute_result"
    }
   ],
   "source": [
    "## Examination of best parameters\n",
    "lightboost_r10.best_params_"
   ]
  },
  {
   "cell_type": "markdown",
   "id": "96fde5be-3985-4830-8ed5-0136cce46625",
   "metadata": {},
   "source": [
    "# (2) Choosing a Production Model"
   ]
  },
  {
   "cell_type": "markdown",
   "id": "16febf94-6af3-4d3c-9065-2f5c464a3719",
   "metadata": {},
   "source": [
    "Following a Gridsearch for the optimal parameters of our candidate models, we ascertained that the Light Gradient Boosting Model achieved the best results. However, we are mindful of the following:\n",
    "\n",
    "(1) **The performance of the light boosting gradient method was only marginally better**. This also came at a cost of much more severe overfitting by the light gradient boosting model as opposed to say, the Logistics Regression Model. Consequently, the light gradient boosting model might not fit as well on new, unseen data.\n",
    "\n",
    "(2) **Among the candidate models, the logistics regression model provides best \"white box\" explanability**. A non-technical audience can better sieve out key factors leading to WNV onset, and correspondingly adopt measures to tackle the virus. This model will ultimately be more palatable to the non-technical city management. \n",
    "\n",
    "With the above consideration, **we deem the logistics regression model to be most suitable for production.**"
   ]
  },
  {
   "cell_type": "markdown",
   "id": "7f5d6f7e-0ed4-4bfa-b77e-2c6a66f977cd",
   "metadata": {},
   "source": [
    "## ROC Curve for Chosen Model"
   ]
  },
  {
   "cell_type": "code",
   "execution_count": 22,
   "id": "7d33885b-e346-4a29-bbf9-e1dc7bbaf542",
   "metadata": {},
   "outputs": [],
   "source": [
    "def log_reg_model_selected(rolling_days, drop_codesum = False):\n",
    "    \n",
    "    # load in data\n",
    "    locals()['train_' + str(rolling_days)] = pd.read_csv('./assets/Modelling_Data/train_r'+ str(rolling_days) +'.csv', index_col=0)\n",
    "    \n",
    "    # drop Date Column\n",
    "    locals()['train_' + str(rolling_days)].drop(columns = ['Date'], inplace = True)\n",
    "    \n",
    "    # drop CodeSum Column\n",
    "    if drop_codesum == True:\n",
    "        locals()['train_' + str(rolling_days)].drop(columns = ['MIFG','TS','SQ','GR','VCFG','FG+','SN','FG',\n",
    "                                                               'VCTS','BCFG','BR','RA','FU','DZ','TSRA','HZ'], inplace = True)\n",
    "    \n",
    "    # Create X and Y\n",
    "    X = eval('train_' + str(rolling_days)).drop(columns = ['WnvPresent'])\n",
    "    X.reset_index(drop = True, inplace = True)\n",
    "    y = eval('train_' + str(rolling_days))['WnvPresent']\n",
    "    \n",
    "    # Dummify Columns\n",
    "    X = pd.get_dummies(X, columns=['Species', 'Trap'], drop_first = True)\n",
    "    \n",
    "    # Train Test Split\n",
    "    X_train, X_test, y_train, y_test = train_test_split(X, y, test_size = 0.33, random_state = 88, stratify = y)\n",
    "    \n",
    "    #Standard Scale weather variables\n",
    "    ct = ColumnTransformer([(\"sc\", StandardScaler(), \n",
    "                             ['Tavg', 'PrecipTotal','StnPressure','ResultDir','AvgSpeed','Sunlight'])],\n",
    "                           remainder = 'passthrough')\n",
    "\n",
    "    X_train_sc = ct.fit_transform(X_train)\n",
    "    X_test_sc = ct.transform(X_test)\n",
    "    \n",
    "    # Convert to dataframe\n",
    "    X_train_sc = pd.DataFrame(X_train_sc, columns=X_train.columns)\n",
    "    X_test_sc = pd.DataFrame(X_test_sc, columns=X_test.columns)\n",
    "    \n",
    "    # Instantiate a pipeline\n",
    "    logreg = LogisticRegression(class_weight='balanced', solver = 'saga', max_iter= 10000, C = 1000)\n",
    "\n",
    "    # Score!\n",
    "    logreg.fit(X_train_sc, y_train) # 1. fit model on training data first\n",
    "    print(f\"Test AUC = {get_scorer('roc_auc')(logreg, X_test_sc, y_test)}\")\n",
    "    \n",
    "    return(logreg, X_test_sc, y_test)"
   ]
  },
  {
   "cell_type": "code",
   "execution_count": 23,
   "id": "377d21ef-122c-49c9-bf92-df4535554c17",
   "metadata": {},
   "outputs": [
    {
     "name": "stdout",
     "output_type": "stream",
     "text": [
      "Test AUC = 0.8280872095940589\n"
     ]
    }
   ],
   "source": [
    "model, X_test, y_test= log_reg_model_selected(30)"
   ]
  },
  {
   "cell_type": "code",
   "execution_count": 24,
   "id": "8209a977-8668-4d5b-b7e8-28e09c232331",
   "metadata": {},
   "outputs": [
    {
     "data": {
      "image/png": "[encoded data removed]",
      "text/plain": [
       "<Figure size 640x480 with 1 Axes>"
      ]
     },
     "metadata": {},
     "output_type": "display_data"
    }
   ],
   "source": [
    "plot_roc_curve(model, X_test, y_test)\n",
    "plt.show();"
   ]
  },
  {
   "cell_type": "markdown",
   "id": "c704fef5-fcce-4fce-ae97-cda655493b00",
   "metadata": {},
   "source": [
    "## Logistic Regression Function for Final Production"
   ]
  },
  {
   "cell_type": "markdown",
   "id": "ac27984c-f1d3-492f-8e7c-36e596802eb5",
   "metadata": {},
   "source": [
    "To set our chosen model for production, we retrain the Logistic Regression model using the entire train set, before publishing our predicted values into a separate csv file.\n",
    "\n",
    "**Submitting our results to Kaggle, where we achieved an AUC score of 0.751.**"
   ]
  },
  {
   "cell_type": "code",
   "execution_count": 37,
   "id": "95e6d954-1ef6-4b61-a8f6-43c65a993c0a",
   "metadata": {},
   "outputs": [],
   "source": [
    "def logregger(rolling_days, drop_codesum = False):\n",
    "    \n",
    "    \n",
    "    # Obtain Data Set\n",
    "    train = pd.read_csv('./assets/Modelling_Data/train_r' + str(rolling_days) +'.csv', index_col=0)\n",
    "    test = pd.read_csv('./assets/Modelling_Data/test_r' + str(rolling_days) +'.csv', index_col=0)\n",
    "    \n",
    "    # Drop Date Column\n",
    "    train.drop(columns = ['Date'], inplace = True)\n",
    "    test.drop(columns = ['Date', 'Id'], inplace = True)\n",
    "    \n",
    "    # drop CodeSum Column\n",
    "    if drop_codesum == True:\n",
    "        train.drop(columns = ['MIFG','TS','SQ','GR','VCFG','FG+','SN','FG',\n",
    "                              'VCTS','BCFG','BR','RA','FU','DZ','TSRA','HZ'], inplace = True)\n",
    "        test.drop(columns = ['MIFG','TS','SQ','GR','VCFG','FG+','SN','FG',\n",
    "                              'VCTS','BCFG','BR','RA','FU','DZ','TSRA','HZ'], inplace = True)\n",
    "        \n",
    "    \n",
    "    # Create X and Y\n",
    "    X_train = train.drop(columns = ['WnvPresent'])\n",
    "    y_train = train['WnvPresent']\n",
    "    \n",
    "    # Dummify Columns\n",
    "    X_train_dummy = pd.get_dummies(X_train, columns=['Species', 'Trap'], drop_first = True)\n",
    "    X_test_dummy = pd.get_dummies(test, columns=['Species', 'Trap'], drop_first = True)\n",
    "    \n",
    "    # Standard Scale weather variables\n",
    "    ct = ColumnTransformer([(\"sc\", StandardScaler(), \n",
    "                         ['Tavg', 'PrecipTotal','StnPressure','ResultDir','AvgSpeed','Sunlight'])],\n",
    "                      remainder = 'passthrough')\n",
    "\n",
    "    X_train_dummy_sc = ct.fit_transform(X_train_dummy)\n",
    "    X_test_dummy_sc = ct.transform(X_test_dummy)\n",
    "    \n",
    "    # Convert back to data frame with columns\n",
    "    X_train_final = pd.DataFrame(X_train_dummy_sc, columns=X_train_dummy.columns)\n",
    "    X_test_final = pd.DataFrame(X_test_dummy_sc, columns=X_train_dummy.columns)\n",
    "    \n",
    "    # Fit model on train\n",
    "    logreg = LogisticRegression(class_weight='balanced', solver = 'saga', max_iter = 40000, C = 1000)\n",
    "    logreg.fit(X_train_final,y_train)\n",
    "    \n",
    "    # Prepare dataframe\n",
    "    answer = pd.DataFrame(logreg.predict_proba(X_test_final))\n",
    "    answer.drop(columns =[0], inplace = True)\n",
    "    answer = pd.concat([pd.DataFrame(np.linspace(1,len(answer),num=len(answer))), answer],axis = 1)\n",
    "    answer.rename(mapper= {0:'Id',1:'WnvPresent'}, axis = 1, inplace = True)\n",
    "    answer['Id'] = answer['Id'].astype(np.int64)\n",
    "    \n",
    "    # Export file to submissions folder\n",
    "    if drop_codesum == True:\n",
    "        answer.to_csv('./assets/Submissions/r' + str(rolling_days) +'_lr_dropped.csv', index = False)\n",
    "    else: \n",
    "        answer.to_csv('./assets/Submissions/r' + str(rolling_days) +'_lr.csv', index = False)\n",
    "        \n",
    "    return((logreg,X_train_final))"
   ]
  },
  {
   "cell_type": "code",
   "execution_count": 38,
   "id": "eda1de9d-cb00-4243-8fb1-68386adfa972",
   "metadata": {},
   "outputs": [],
   "source": [
    "# Export Output of Model\n",
    "results = logregger(30)\n",
    "production_model = results[0]\n",
    "X_train_final = results[1]"
   ]
  },
  {
   "cell_type": "markdown",
   "id": "85de0b23-56ca-4662-bd3e-b77d5722d4a3",
   "metadata": {},
   "source": [
    "# (3) Examination of Most Important Variables"
   ]
  },
  {
   "cell_type": "markdown",
   "id": "d5756e1c-437b-4219-950b-65a6b8bbd5c6",
   "metadata": {},
   "source": [
    "Examining the most important variables, we discover the following to impact the onset of WNV most significantly:\n",
    "\n",
    "(1) **Precipitation (Most Positive)**. Presence of rain / drizzle casts the greatest impact in causing WNV onset.\n",
    "\n",
    "(2) **Fogs and Smoke (Most Negative)**. Meanwhile, the presence of Mist / Fog / Smoke deters the onset of WNV most significantly!"
   ]
  },
  {
   "cell_type": "code",
   "execution_count": 39,
   "id": "98a92561-a267-47b7-bdce-a80909054251",
   "metadata": {},
   "outputs": [],
   "source": [
    "# Examine most important variables\n",
    "coefficients = pd.DataFrame(production_model.coef_, columns = X_train_final.columns)"
   ]
  },
  {
   "cell_type": "code",
   "execution_count": 40,
   "id": "132487ff-9b6b-4a31-8cc4-1f281105893b",
   "metadata": {},
   "outputs": [
    {
     "data": {
      "text/plain": [
       "BCFG    44.345991\n",
       "DZ      10.853193\n",
       "RA       6.740013\n",
       "FG       6.492740\n",
       "VCTS     5.513570\n",
       "Name: 0, dtype: float64"
      ]
     },
     "execution_count": 40,
     "metadata": {},
     "output_type": "execute_result"
    }
   ],
   "source": [
    "## Variables with Highest Coefficients (Positive)\n",
    "(coefficients.T)[0].sort_values(ascending=False)[0:5]"
   ]
  },
  {
   "cell_type": "code",
   "execution_count": 41,
   "id": "903b27bc-416f-4cd0-8ff0-5b2e7385e49f",
   "metadata": {},
   "outputs": [
    {
     "data": {
      "text/plain": [
       "VCFG   -78.814172\n",
       "SQ     -47.459589\n",
       "GR     -27.759586\n",
       "FG+    -25.778627\n",
       "MIFG    -8.802805\n",
       "Name: 0, dtype: float64"
      ]
     },
     "execution_count": 41,
     "metadata": {},
     "output_type": "execute_result"
    }
   ],
   "source": [
    "## Variables with Highest Coefficients (Negative)\n",
    "(coefficients.T)[0].sort_values(ascending=True)[0:5]"
   ]
  },
  {
   "cell_type": "markdown",
   "id": "245d9382-a997-43ae-8882-278baabecfed",
   "metadata": {},
   "source": [
    "# (4) Further Exploration: The Case for Higher Rolling Days"
   ]
  },
  {
   "cell_type": "markdown",
   "id": "6d3cb0fc-99b6-45cb-8dca-a386b6f13223",
   "metadata": {},
   "source": [
    "We have earlier experimented with rolling weather averages of 10, 20 and 30 days for our model. The key idea is these number of days should adequately account for the duration of optimal weather required for mosquito eggs to \"unhibernate\", to hatch, and for the adults to become sufficiently active. However, while we can scientifically establish that it takes 8 to 10 days for a hatched mosquito egg to become an adult, the science behind how animals regulate themselves to wake up from hibernation is more abstract.\n",
    "\n",
    "By some accounts, animal wakes up from hibernation using some combination of [internal body clock](https://earthsky.org/earth/how-do-hibernating-animals-know-when-to-wake-up/) and [external weather stimulus](https://www.grunge.com/1055546/how-do-hibernating-animals-know-when-to-wake-up/). Of note, waking up from hibernation is a massive endeavour for most animals requiring them to turn on many calorie-burning bodily functions - waking up too early can spell doom for hibernating animals. The point is, animals may take even longer-term weather averages into account when deciding to come out of hibernation. It is therefore not unthinkable that even rolling day averages beyond 30 days could be a key factor when determining mosquito activity. \n",
    "\n",
    "In a exploratory instance, we used a rolling average of 80 days to train a logistics model (here we drop the CodeSum variables since we opine that these variables loses their significance over so many days).\n",
    "\n",
    "**Submitting the results to Kaggle, we obtain an AUC score of 0.790**, which is slightly superior to our previous results. Is this due to sheer luck? The hibernation behaviour of mosquito eggs is certainly worth further examination."
   ]
  },
  {
   "cell_type": "code",
   "execution_count": 79,
   "id": "5165c487-a4f2-4c27-9967-2de8efe76a7a",
   "metadata": {},
   "outputs": [],
   "source": [
    "# Trying for more outlandish days...\n",
    "logregger_80 = logregger(80, drop_codesum = True)"
   ]
  },
  {
   "cell_type": "markdown",
   "id": "ea0b30b5-41ad-454e-9d16-470e862a4356",
   "metadata": {},
   "source": [
    "![image](https://yohta-blog.yokohama-oht.com/hs-fs/hubfs/well-its-groundhog-day-again.jpg?width=1000&height=720&name=well-its-groundhog-day-again.jpg)"
   ]
  },
  {
   "cell_type": "markdown",
   "id": "c5ea71e4-b3ba-4f1c-b325-b2c35bb56b45",
   "metadata": {},
   "source": [
    "# (5) Bonus: Logistics Regression with SMOTE"
   ]
  },
  {
   "cell_type": "markdown",
   "id": "25d1f315-c4f4-469c-810c-850a60d064cc",
   "metadata": {},
   "source": [
    "We took the liberty to explore an alternate method [Synthetic Minority Oversampling Technique](https://machinelearningmastery.com/smote-oversampling-for-imbalanced-classification/). This technique synthesises the under-represented observations (in this case,'WnvPresent' = 1) by applying KNN on the observations to create more data points, towards creating a more balanced dataset. Theoretically, this prevents an \"over-learning\" of the the limited positive cases we have, thereby mitigating any overfit. However, it also [documented](https://www.google.com/url?sa=t&rct=j&q=&esrc=s&source=web&cd=&ved=2ahUKEwjl-u64k_z6AhWNm9gFHQeID3sQFnoECBUQAw&url=https%3A%2F%2Fwww.mdpi.com%2F2073-8994%2F13%2F2%2F194%2Fpdf&usg=AOvVaw00Iv0stQnUPpsP4dEGfoUF) that the model oversamples noises (which in turn aggravates overfitting).\n",
    "\n",
    "The method produced slightly superior results. However, the more severe overfitting leads us to decide against using the model for our final production."
   ]
  },
  {
   "cell_type": "code",
   "execution_count": 36,
   "id": "28913443-0c8e-4527-8e09-524a8d7abd63",
   "metadata": {},
   "outputs": [],
   "source": [
    "from imblearn.over_sampling import SMOTE"
   ]
  },
  {
   "cell_type": "markdown",
   "id": "1baf139c-34a2-4a79-b5e9-8a95c6db218c",
   "metadata": {},
   "source": [
    "### Function for SMOTE-Enabled Logistic Regression Training"
   ]
  },
  {
   "cell_type": "code",
   "execution_count": 37,
   "id": "eb8490d8-ca29-4840-9943-e2d7100a7c0e",
   "metadata": {},
   "outputs": [],
   "source": [
    "def log_reg_model_SMOTE(rolling_days, drop_codesum = False):\n",
    "    \n",
    "    print(f\"LOG REG with SMOTE: {rolling_days} days rolling weather.\") \n",
    "    \n",
    "    # load in data\n",
    "    locals()['train_' + str(rolling_days)] = pd.read_csv('./assets/Modelling_Data/train_r'+ str(rolling_days) +'.csv', index_col=0)\n",
    "    \n",
    "    # drop Date Column\n",
    "    locals()['train_' + str(rolling_days)].drop(columns = ['Date'], inplace = True)\n",
    "    \n",
    "    # drop CodeSum Column\n",
    "    if drop_codesum == True:\n",
    "        locals()['train_' + str(rolling_days)].drop(columns = ['MIFG','TS','SQ','GR','VCFG','FG+','SN','FG',\n",
    "                                                               'VCTS','BCFG','BR','RA','FU','DZ','TSRA','HZ'], inplace = True)\n",
    "        \n",
    "    # Create X and Y\n",
    "    X = eval('train_' + str(rolling_days)).drop(columns = ['WnvPresent'])\n",
    "    X.reset_index(drop = True, inplace = True)\n",
    "    y = eval('train_' + str(rolling_days))['WnvPresent']\n",
    "    \n",
    "    # Dummify Columns\n",
    "    X = pd.get_dummies(X, columns=['Species', 'Trap'], drop_first = True)\n",
    "    \n",
    "    # Train Test Split\n",
    "    X_train, X_test, y_train, y_test = train_test_split(X, y, test_size = 0.33, random_state = 88, stratify = y)\n",
    "    \n",
    "    # Standard Scale weather variables\n",
    "    ct = ColumnTransformer([(\"sc\", StandardScaler(), \n",
    "                             ['Tavg', 'PrecipTotal','StnPressure','ResultDir','AvgSpeed','Sunlight'])],\n",
    "                          remainder = 'passthrough')\n",
    "\n",
    "    X_train_sc = ct.fit_transform(X_train)\n",
    "    X_test_sc = ct.transform(X_test)\n",
    "    \n",
    "    # Convert to dataframe\n",
    "    X_train_sc = pd.DataFrame(X_train_sc, columns=X_train.columns)\n",
    "    X_test_sc = pd.DataFrame(X_test_sc, columns=X_test.columns)\n",
    "    \n",
    "    # SMOTE HERE\n",
    "    sm = SMOTE(random_state=42)\n",
    "    X_train_sc, y_train = sm.fit_resample(X_train_sc, y_train)\n",
    "    \n",
    "    # Instantiate a pipeline\n",
    "    pipe_logreg = Pipeline([\n",
    "        ('logreg', LogisticRegression(class_weight='balanced', solver = 'saga', max_iter=10000)) # tuple for estimator object, class\n",
    "    ])\n",
    "    \n",
    "    # Input Search Parameters!\n",
    "    pipe_logreg_params = {'logreg__C': np.logspace(-3,3,7)}\n",
    "    \n",
    "    # Instantiate a Grid Search\n",
    "    gs_logreg = GridSearchCV(pipe_logreg, \n",
    "                             param_grid=pipe_logreg_params,\n",
    "                             cv=5,\n",
    "                             verbose=1,\n",
    "                             n_jobs=-1\n",
    "                            )\n",
    "    \n",
    "    # Score!\n",
    "    \n",
    "    gs_logreg.fit(X_train_sc, y_train) # 1. fit model on training data first\n",
    "\n",
    "    for metric in ['accuracy', 'precision', 'recall', 'f1']: # define a list of metrics we want computed on test\n",
    "        print(f'Train {metric}: {get_scorer(metric)(gs_logreg, X_train_sc, y_train)}') # pass to get_scorer for metrics computation\n",
    "    print(f\"Train AUC = {get_scorer('roc_auc')(gs_logreg, X_train_sc, y_train)}\")\n",
    "\n",
    "    for metric in ['accuracy', 'precision', 'recall', 'f1']: # define a list of metrics we want computed on test\n",
    "        print(f'Test {metric}: {get_scorer(metric)(gs_logreg, X_test_sc, y_test)}') # pass to get_scorer for metrics computation\n",
    "    print(f\"Test AUC = {get_scorer('roc_auc')(gs_logreg, X_test_sc, y_test)}\")\n",
    "    \n",
    "    print('**************************************************')    \n",
    "        \n",
    "    return(gs_logreg)"
   ]
  },
  {
   "cell_type": "code",
   "execution_count": 38,
   "id": "8253079f-332f-4256-9e6f-8405357010ed",
   "metadata": {},
   "outputs": [
    {
     "name": "stdout",
     "output_type": "stream",
     "text": [
      "LOG REG with SMOTE: 30 days rolling weather.\n",
      "Fitting 5 folds for each of 7 candidates, totalling 35 fits\n",
      "Train accuracy: 0.818215892053973\n",
      "Train precision: 0.785704670884372\n",
      "Train recall: 0.8751124437781109\n",
      "Train f1: 0.8280019859564508\n",
      "Train AUC = 0.8860695364461696\n",
      "Test accuracy: 0.7683876550331699\n",
      "Test precision: 0.1569060773480663\n",
      "Test recall: 0.7802197802197802\n",
      "Test f1: 0.2612695492180313\n",
      "Test AUC = 0.8272575978055432\n",
      "**************************************************\n"
     ]
    }
   ],
   "source": [
    "logreg_smote_r30 = log_reg_model_SMOTE(30)"
   ]
  },
  {
   "cell_type": "markdown",
   "id": "080a61a7-6dc6-4a8f-90fe-25919493ca0c",
   "metadata": {},
   "source": [
    "### Function for SMOTE-Enabled Logistic Regression Submission (Not Used)"
   ]
  },
  {
   "cell_type": "code",
   "execution_count": 39,
   "id": "886663d6-16c1-4ba5-b415-5ada07a76247",
   "metadata": {},
   "outputs": [],
   "source": [
    "def logregger_smote(rolling_days, drop_codesum = False):\n",
    "    \n",
    "    # Obtain Data Set\n",
    "    train = pd.read_csv('./assets/Modelling_Data/train_r' + str(rolling_days) +'.csv', index_col=0)\n",
    "    test = pd.read_csv('./assets/Modelling_Data/test_r' + str(rolling_days) +'.csv', index_col=0)\n",
    "    \n",
    "    # Drop Date Column\n",
    "    train.drop(columns = ['Date'], inplace = True)\n",
    "    test.drop(columns = ['Date', 'Id'], inplace = True)\n",
    "    \n",
    "    # drop CodeSum Column\n",
    "    if drop_codesum == True:\n",
    "        train.drop(columns = ['MIFG','TS','SQ','GR','VCFG','FG+','SN','FG',\n",
    "                              'VCTS','BCFG','BR','RA','FU','DZ','TSRA','HZ'], inplace = True)\n",
    "        test.drop(columns = ['MIFG','TS','SQ','GR','VCFG','FG+','SN','FG',\n",
    "                              'VCTS','BCFG','BR','RA','FU','DZ','TSRA','HZ'], inplace = True)    \n",
    "    \n",
    "    # Create X and Y\n",
    "    X_train = train.drop(columns = ['WnvPresent'])\n",
    "    y_train = train['WnvPresent']\n",
    "    \n",
    "    # Dummify Columns\n",
    "    X_train_dummy = pd.get_dummies(X_train, columns=['Species', 'Trap'], drop_first = True)\n",
    "    X_test_dummy = pd.get_dummies(test, columns=['Species', 'Trap'], drop_first = True)\n",
    "    \n",
    "    # Standard Scale weather variables\n",
    "    ct = ColumnTransformer([(\"sc\", StandardScaler(), \n",
    "                         ['Tavg', 'PrecipTotal','StnPressure','ResultDir','AvgSpeed','Sunlight'])],\n",
    "                      remainder = 'passthrough')\n",
    "\n",
    "    X_train_dummy_sc = ct.fit_transform(X_train_dummy)\n",
    "    X_test_dummy_sc = ct.transform(X_test_dummy)\n",
    "    \n",
    "    # Convert back to data frame with columns\n",
    "    X_train_final = pd.DataFrame(X_train_dummy_sc, columns=X_train_dummy.columns)\n",
    "    X_test_final = pd.DataFrame(X_test_dummy_sc, columns=X_train_dummy.columns)\n",
    "    \n",
    "    # Apply SMOTE to expand data set\n",
    "    sm = SMOTE(random_state=42)\n",
    "    X_res, y_res = sm.fit_resample(X_train_final, y_train)\n",
    "    \n",
    "    # Fit model on train\n",
    "    logreg = LogisticRegression(penalty = 'l2', solver = 'sag', C = 1.0, max_iter=1000)\n",
    "    logreg.fit(X_res,y_res)\n",
    "    \n",
    "    # Prepare dataframe\n",
    "    answer = pd.DataFrame(logreg.predict_proba(X_test_final))\n",
    "    answer.drop(columns =[0], inplace = True)\n",
    "    answer = pd.concat([pd.DataFrame(np.linspace(1,len(answer),num=len(answer))), answer],axis = 1)\n",
    "    answer.rename(mapper= {0:'Id',1:'WnvPresent'}, axis = 1, inplace = True)\n",
    "    answer['Id'] = answer['Id'].astype(np.int64)\n",
    "    \n",
    "    # Export file to submissions folder\n",
    "    if drop_codesum == True:\n",
    "        answer.to_csv('./assets/Submissions/r' + str(rolling_days) +'_lr_dropped_smote.csv', index = False)\n",
    "    else: \n",
    "        answer.to_csv('./assets/Submissions/r' + str(rolling_days) +'_lr_smote.csv', index = False)"
   ]
  },
  {
   "cell_type": "markdown",
   "id": "4a384f6f-e073-4f7e-89ec-32f975db6358",
   "metadata": {},
   "source": [
    "# (6) Bonus: Neural Nets Implementation"
   ]
  },
  {
   "cell_type": "markdown",
   "id": "0bc77406-68f5-4121-8b42-823346d08939",
   "metadata": {},
   "source": [
    "We experimented with the implementation of a neural net for WNV prediction. With the caveat that we did not perform a train set cross-validation nor did we finetune the model, we were not able to obtain a better performance than what we already have (AUC of 0.73 when submitted to Kaggle). Concurrently, the model displayed difficulties in converging, and we opine that it is best to not use it for production."
   ]
  },
  {
   "cell_type": "code",
   "execution_count": 42,
   "id": "ad030ce5-f775-457d-9c4d-9bb8f13d32ad",
   "metadata": {},
   "outputs": [],
   "source": [
    "from sklearn.neural_network import MLPClassifier"
   ]
  },
  {
   "cell_type": "code",
   "execution_count": 43,
   "id": "98c5cca4-ce0d-44e0-b467-1b30fcfc6cc0",
   "metadata": {},
   "outputs": [],
   "source": [
    "def neural_nets(rolling_days, drop_codesum = False):\n",
    "    \n",
    "    # Obtain Data Set\n",
    "    train = pd.read_csv('./assets/Modelling_Data/train_r' + str(rolling_days) +'.csv', index_col=0)\n",
    "    test = pd.read_csv('./assets/Modelling_Data/test_r' + str(rolling_days) +'.csv', index_col=0)\n",
    "    \n",
    "    # Drop Date Column\n",
    "    train.drop(columns = ['Date'], inplace = True)\n",
    "    test.drop(columns = ['Date', 'Id'], inplace = True)\n",
    "    \n",
    "    # drop CodeSum Column\n",
    "    if drop_codesum == True:\n",
    "        train.drop(columns = ['MIFG','TS','SQ','GR','VCFG','FG+','SN','FG',\n",
    "                              'VCTS','BCFG','BR','RA','FU','DZ','TSRA','HZ'], inplace = True)\n",
    "        test.drop(columns = ['MIFG','TS','SQ','GR','VCFG','FG+','SN','FG',\n",
    "                              'VCTS','BCFG','BR','RA','FU','DZ','TSRA','HZ'], inplace = True)\n",
    "        \n",
    "    \n",
    "    # Create X and Y\n",
    "    X_train = train.drop(columns = ['WnvPresent'])\n",
    "    y_train = train['WnvPresent']\n",
    "    \n",
    "    # Dummify Columns\n",
    "    X_train_dummy = pd.get_dummies(X_train, columns=['Species', 'Trap'], drop_first = True)\n",
    "    X_test_dummy = pd.get_dummies(test, columns=['Species', 'Trap'], drop_first = True)\n",
    "    \n",
    "    # Standard Scale weather variables\n",
    "    ct = ColumnTransformer([(\"sc\", StandardScaler(), \n",
    "                         ['Tavg', 'PrecipTotal','StnPressure','ResultDir','AvgSpeed','Sunlight'])],\n",
    "                      remainder = 'passthrough')\n",
    "\n",
    "    X_train_dummy_sc = ct.fit_transform(X_train_dummy)\n",
    "    X_test_dummy_sc = ct.transform(X_test_dummy)\n",
    "    \n",
    "    # Convert back to data frame with columns\n",
    "    X_train_final = pd.DataFrame(X_train_dummy_sc, columns=X_train_dummy.columns)\n",
    "    X_test_final = pd.DataFrame(X_test_dummy_sc, columns=X_train_dummy.columns)\n",
    "    \n",
    "    # Fit model on train\n",
    "    nn = MLPClassifier(hidden_layer_sizes = (50,100,150,100,50), \n",
    "                       random_state = 88, \n",
    "                       learning_rate = 'adaptive',\n",
    "                       alpha = 0.05\n",
    "                      )\n",
    "    nn.fit(X_train_final,y_train)\n",
    "    \n",
    "    # Prepare dataframe\n",
    "    answer = pd.DataFrame(nn.predict_proba(X_test_final))\n",
    "    answer.drop(columns =[0], inplace = True)\n",
    "    answer = pd.concat([pd.DataFrame(np.linspace(1,len(answer),num=len(answer))), answer],axis = 1)\n",
    "    answer.rename(mapper= {0:'Id',1:'WnvPresent'}, axis = 1, inplace = True)\n",
    "    answer['Id'] = answer['Id'].astype(np.int64)\n",
    "    \n",
    "    # Export file to submissions folder\n",
    "    if drop_codesum == True:\n",
    "        answer.to_csv('./assets/Submissions/r' + str(rolling_days) +'_nn_dropped.csv', index = False)\n",
    "    else: \n",
    "        answer.to_csv('./assets/Submissions/r' + str(rolling_days) +'_nn.csv', index = False)\n",
    "        \n",
    "    return((nn,X_train_final))"
   ]
  },
  {
   "cell_type": "code",
   "execution_count": 45,
   "id": "574f6620-7949-493b-bf2f-141d41fe4e10",
   "metadata": {},
   "outputs": [],
   "source": [
    "#%%time\n",
    "nn_model = neural_nets(30, drop_codesum = True)"
   ]
  }
 ],
 "metadata": {
  "kernelspec": {
   "display_name": "Python 3 (ipykernel)",
   "language": "python",
   "name": "python3"
  },
  "language_info": {
   "codemirror_mode": {
    "name": "ipython",
    "version": 3
   },
   "file_extension": ".py",
   "mimetype": "text/x-python",
   "name": "python",
   "nbconvert_exporter": "python",
   "pygments_lexer": "ipython3",
   "version": "3.9.12"
  }
 },
 "nbformat": 4,
 "nbformat_minor": 5
}
